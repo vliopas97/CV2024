{
 "cells": [
  {
   "cell_type": "markdown",
   "metadata": {},
   "source": [
    "## TASK 0 - Colorizing Images\n",
    "Name: Liopas Evangelos Ioannis\\\n",
    "Matricular Number: 12433743\n",
    "\n",
    "### 1. Data import and preparation\n",
    "\n",
    "Read three corresponding input images from your local directory (_data_), respresenting the intensity of each color channel, and convert them to grayscale.\n",
    "\n",
    "_***HINT:***_\n",
    "_cv2.imread(..)_\n",
    "_cv2.cvtColor(..)_"
   ]
  },
  {
   "cell_type": "code",
   "execution_count": 9,
   "metadata": {},
   "outputs": [
    {
     "name": "stdout",
     "output_type": "stream",
     "text": [
      "The autoreload extension is already loaded. To reload it, use:\n",
      "  %reload_ext autoreload\n"
     ]
    }
   ],
   "source": [
    "%load_ext autoreload\n",
    "%autoreload 1\n",
    "%aimport channels\n",
    "import matplotlib.pyplot as plt\n",
    "import utils\n",
    "import channels\n",
    "import cv2\n",
    "\n",
    "# Adjust size of image plot here\n",
    "plt.rcParams['figure.figsize'] = [8,5]\n",
    "plt.rcParams['figure.dpi'] = 150"
   ]
  },
  {
   "cell_type": "code",
   "execution_count": 10,
   "metadata": {},
   "outputs": [],
   "source": [
    "#student_code start\n",
    "rChannel = cv2.imread(\".\\data\\\\00125v_R.jpg\", flags=cv2.IMREAD_GRAYSCALE)\n",
    "gChannel = cv2.imread(\".\\data\\\\00125v_G.jpg\", flags=cv2.IMREAD_GRAYSCALE)\n",
    "bChannel = cv2.imread(\".\\data\\\\00125v_B.jpg\", flags=cv2.IMREAD_GRAYSCALE)\n",
    "\n",
    "#student_code end\n"
   ]
  },
  {
   "cell_type": "markdown",
   "metadata": {},
   "source": [
    "### 2. Colorizing Images\n",
    "\n",
    "Implement method ***corr2d(..)*** and ***align(..)*** in _channels.py_ as mentioned in the task description. \n",
    "Plot your result using ***utils.show_plot(..)*** "
   ]
  },
  {
   "cell_type": "code",
   "execution_count": 11,
   "metadata": {},
   "outputs": [],
   "source": [
    "#student_code start\n",
    "import channels\n",
    "\n",
    "result = channels.align(rChannel, gChannel, bChannel)\n",
    "\n",
    "cv2.imshow(\"image\", result)\n",
    "cv2.waitKey(0)\n",
    "cv2.destroyAllWindows()\n",
    "#student_code end"
   ]
  },
  {
   "cell_type": "markdown",
   "metadata": {},
   "source": [
    "*** \n",
    "#### Choose two other sets of three color channels and repeat the process. In total, save three aligned images to your folder _results_ and do not forget to submit it.\n",
    "\n",
    "\n",
    "***Submission:*** Save the three colorized images as as **task0_colorized_(image number).png**"
   ]
  },
  {
   "cell_type": "code",
   "execution_count": 12,
   "metadata": {},
   "outputs": [],
   "source": [
    "import os\n",
    "\n",
    "filenames = [\"00125\", \"00149\", \"00153\"]\n",
    "for file in filenames:\n",
    "    r_ = cv2.imread(\".\\data\\\\\"+file+\"v_R.jpg\", flags=cv2.IMREAD_GRAYSCALE)\n",
    "    g_ = cv2.imread(\".\\data\\\\\"+file+\"v_G.jpg\", flags=cv2.IMREAD_GRAYSCALE)\n",
    "    b_ = cv2.imread(\".\\data\\\\\"+file+\"v_B.jpg\", flags=cv2.IMREAD_GRAYSCALE)\n",
    "\n",
    "    img = channels.align(r_, g_, b_)\n",
    "    absolute_path = os.path.join(os.getcwd(), \"results\\\\task0_colorized_\"+file+\"_MN_12433743.jpg\")\n",
    "    cv2.imwrite(absolute_path, img)"
   ]
  }
 ],
 "metadata": {
  "kernelspec": {
   "display_name": "Python 3",
   "language": "python",
   "name": "python3"
  },
  "language_info": {
   "codemirror_mode": {
    "name": "ipython",
    "version": 3
   },
   "file_extension": ".py",
   "mimetype": "text/x-python",
   "name": "python",
   "nbconvert_exporter": "python",
   "pygments_lexer": "ipython3",
   "version": "3.8.0"
  }
 },
 "nbformat": 4,
 "nbformat_minor": 4
}
